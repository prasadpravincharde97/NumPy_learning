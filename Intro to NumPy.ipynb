{
 "cells": [
  {
   "cell_type": "markdown",
   "id": "1f8f3c96",
   "metadata": {},
   "source": [
    "# Introduction to NumPy"
   ]
  },
  {
   "cell_type": "markdown",
   "id": "d66e6895",
   "metadata": {},
   "source": [
    "NumPy is a open source Python library used for working with arrays. NumPy stands for **Numerical Python**.</br>\n",
    "It also has functions for working in domain of linear algebra, fourier transform, and matrices. </br>\n",
    "NumPy was **created in 2005 by Travis Oliphant**. </br>\n",
    "It is written partially in Python, but most of the parts that require fast computation are written in C or C++. </br>\n",
    "\n",
    "* Github repository for NumPy source code is **https://github.com/numpy/numpy**\n",
    "\n",
    "\n",
    "#### Why to use NumPy?\n",
    "* We have lists in Python that serve the purpose of arrays, but they are slow to process. </br>\n",
    "* NumPy aims to provide an array object that is up to *50x faster* than traditional Python lists. </br>\n",
    "* NumPy arrays are stored at one continuous place in memory unlike python lists, so it can be accessed and manipulated very efficiently. This behavior is called **locality of reference** in computer science. Also it is optimized to work with latest CPU architectures.\n",
    "* The array object in NumPy is called **ndarray**, it provides a lot of supporting functions that make working with ndarray very easy."
   ]
  },
  {
   "cell_type": "markdown",
   "id": "17aa145e",
   "metadata": {},
   "source": [
    "#### Installation of NumPy\n",
    "Prerequisist --- Python 3 and PIP\n",
    "\n",
    "Execute below given command in command prompt for Windows users or in terminal for Linux users."
   ]
  },
  {
   "cell_type": "raw",
   "id": "7703ae2c",
   "metadata": {},
   "source": [
    "pip install numpy"
   ]
  },
  {
   "cell_type": "markdown",
   "id": "1c02c7d8",
   "metadata": {},
   "source": [
    "#### Importing NumPy "
   ]
  },
  {
   "cell_type": "code",
   "execution_count": 1,
   "id": "04f2efb0",
   "metadata": {},
   "outputs": [],
   "source": [
    "import numpy    # or\n",
    "import numpy as np  # or\n",
    "from numpy import array, random, linspace "
   ]
  },
  {
   "cell_type": "markdown",
   "id": "f4384fa3",
   "metadata": {},
   "source": [
    "### Array Dimensions (nested arrays)\n",
    "*A dimension is a direction in which you can vary the specification of an array's elements.*"
   ]
  },
  {
   "cell_type": "code",
   "execution_count": 2,
   "id": "8f63ffa2",
   "metadata": {},
   "outputs": [
    {
     "name": "stdout",
     "output_type": "stream",
     "text": [
      "42\n",
      "Dimension: 0\n",
      "\n",
      " [1 2 3 4 5]\n",
      "Dimension: 1\n",
      "\n",
      " [[1 2 3]\n",
      " [4 5 6]]\n",
      "Dimension: 2\n",
      "\n",
      " [[[1 2 3]\n",
      "  [4 5 6]]\n",
      "\n",
      " [[1 2 3]\n",
      "  [4 5 6]]]\n",
      "Dimension: 3\n",
      "\n",
      " [[[[[1 2 3 4 5 6]]]]]\n",
      "Dimension: 5\n"
     ]
    }
   ],
   "source": [
    "# 'ndim' function gives array dimensions \n",
    "a = np.array(42)                                                 # only one element = 0 dimension\n",
    "b = np.array([1, 2, 3, 4, 5])                                    # One list (single '[]') = 1 dimension\n",
    "c = np.array([[1, 2, 3], [4, 5, 6]])                             # Two lists inside '[]' = 2 dimension and so on\n",
    "d = np.array([[[1, 2, 3], [4, 5, 6]], [[1, 2, 3], [4, 5, 6]]])  \n",
    "\n",
    "e = np.array([1,2,3,4,5,6], ndmin=5)                # Specifying higher dimension by 'ndmin' while creating an array, here 5\n",
    "\n",
    "print(a)\n",
    "print(\"Dimension:\",a.ndim)\n",
    "print(\"\\n\",b)\n",
    "print(\"Dimension:\",b.ndim)\n",
    "print(\"\\n\",c)\n",
    "print(\"Dimension:\",c.ndim)\n",
    "print(\"\\n\",d)\n",
    "print(\"Dimension:\",d.ndim)\n",
    "print(\"\\n\",e)\n",
    "print(\"Dimension:\", e.ndim)"
   ]
  },
  {
   "cell_type": "markdown",
   "id": "7fc18764",
   "metadata": {},
   "source": [
    "========================================================================================================================\n",
    "### Datatypes in NumPy\n",
    "\n",
    "Below are numpy datatypes and associated parameters to be passed to 'astype()' function for type casting or while creating an array.\n",
    "* i - integer \n",
    "* b - boolean \n",
    "* u - unsigned integer \n",
    "* f - float \n",
    "* c - complex float \n",
    "* m - timedelta\n",
    "* M - datetime\n",
    "* O - object\n",
    "* S - string \n",
    "* U - unicode string\n",
    "* V - fixed chunk of memory for other type ( void )\n",
    "\n",
    "**numpy_array.dtype** - gives datatype of numpy array </br>\n",
    "**numpy_array.astype()** - to cast type of array "
   ]
  }
 ],
 "metadata": {
  "kernelspec": {
   "display_name": "Python 3 (ipykernel)",
   "language": "python",
   "name": "python3"
  },
  "language_info": {
   "codemirror_mode": {
    "name": "ipython",
    "version": 3
   },
   "file_extension": ".py",
   "mimetype": "text/x-python",
   "name": "python",
   "nbconvert_exporter": "python",
   "pygments_lexer": "ipython3",
   "version": "3.9.7"
  }
 },
 "nbformat": 4,
 "nbformat_minor": 5
}
