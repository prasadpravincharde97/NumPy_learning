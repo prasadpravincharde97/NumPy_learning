{
 "cells": [
  {
   "cell_type": "markdown",
   "id": "fd03d52d",
   "metadata": {},
   "source": [
    "#### Importing NumPy library"
   ]
  },
  {
   "cell_type": "code",
   "execution_count": 1,
   "id": "c9125895",
   "metadata": {},
   "outputs": [],
   "source": [
    "import numpy as np"
   ]
  },
  {
   "cell_type": "markdown",
   "id": "44254370",
   "metadata": {},
   "source": [
    "# Numpy array creation "
   ]
  },
  {
   "cell_type": "markdown",
   "id": "4648610b",
   "metadata": {},
   "source": [
    "## 1. numpy.array(): Conversion from Python objects (list, tuples, set, dict)"
   ]
  },
  {
   "cell_type": "markdown",
   "id": "96c25adc",
   "metadata": {},
   "source": [
    "### i. Integer Array from python list"
   ]
  },
  {
   "cell_type": "code",
   "execution_count": 3,
   "id": "cd8e66b7",
   "metadata": {},
   "outputs": [
    {
     "name": "stdout",
     "output_type": "stream",
     "text": [
      "[10 20 30 40 50 60 70]\n",
      "Array_datatype: int32\n",
      "Type of object: <class 'numpy.ndarray'>\n",
      "Array_itemsize: 4\n",
      "Array_size: 7\n",
      "Array_shape: (7,)\n"
     ]
    }
   ],
   "source": [
    "int_array = np.array([10,20,30,40,50,60,70])        # Declaring array using Numpy's array function\n",
    "print(int_array)              \n",
    "print(\"Array_datatype:\", int_array.dtype)            # '.dtype' gives datatype info of array\n",
    "print(\"Type of object:\", type(int_array))\n",
    "print(\"Array_itemsize:\", int_array.dtype.itemsize)   # '.dtype.itemsize' gives size of an elements of an array. here int32 = 4 byte \n",
    "print(\"Array_size:\", int_array.size)                 # '.size' gives size of an array i.e. total no. of elements present in array\n",
    "print(\"Array_shape:\", int_array.shape)"
   ]
  },
  {
   "cell_type": "markdown",
   "id": "68d1b27f",
   "metadata": {},
   "source": [
    "#### Two dimension array "
   ]
  },
  {
   "cell_type": "code",
   "execution_count": 4,
   "id": "4fd26dbb",
   "metadata": {},
   "outputs": [
    {
     "name": "stdout",
     "output_type": "stream",
     "text": [
      "[[10 20 30 40]\n",
      " [ 5 15 25 35]\n",
      " [50 60 70 80]]\n",
      "Array_datatype: int32\n",
      "Array_itemsize: 4\n",
      "Array_size: 12\n",
      "Array_shape: (3, 4)\n"
     ]
    }
   ],
   "source": [
    "row1 = [10, 20, 30, 40]\n",
    "row2 = [5, 15, 25, 35]\n",
    "row3 = [50, 60, 70, 80]\n",
    "two_dim_array = np.array([row1, row2, row3])\n",
    "print(two_dim_array)\n",
    "print(\"Array_datatype:\",two_dim_array.dtype)\n",
    "print(\"Array_itemsize:\",two_dim_array.dtype.itemsize)\n",
    "print(\"Array_size:\",two_dim_array.size)\n",
    "print(\"Array_shape:\",two_dim_array.shape)"
   ]
  },
  {
   "cell_type": "markdown",
   "id": "d4dd3639",
   "metadata": {},
   "source": [
    "### ii. String Array from python list"
   ]
  },
  {
   "cell_type": "code",
   "execution_count": 5,
   "id": "faf9951c",
   "metadata": {},
   "outputs": [
    {
     "name": "stdout",
     "output_type": "stream",
     "text": [
      "['Red' 'Green' 'Orange']\n",
      "<U6\n",
      "<class 'numpy.ndarray'>\n",
      "24\n",
      "3\n"
     ]
    }
   ],
   "source": [
    "str_array = np.array([\"Red\",\"Green\",\"Orange\"])\n",
    "print(str_array)\n",
    "print(str_array.dtype)\n",
    "print(type(str_array))\n",
    "print(str_array.dtype.itemsize)\n",
    "print(str_array.size)"
   ]
  },
  {
   "cell_type": "markdown",
   "id": "4c12c665",
   "metadata": {},
   "source": [
    "* **Note:- \"dtype.itemsize\"** function gives total size (sum of all elements / characters) of max(item) in a list. </br>\n",
    "> * E.g. - \"np.array([\"Red\",\"Green\",\"Orange\"])\", here max(item in a list) is \"Orange\" i.e. 6 characters. </br>\n",
    " 1 character => '**<Unicode 1**' = 4 bytes. Hence \"print(np.array([\"Red\",\"Green\",\"Orange\"]).dtype.itemsize)\" = 4 x 6 = **24 bytes**. </br>\n",
    " Also, \"print(np.array([\"Red\",\"Green\",\"Orange\"]).dtype)\" = max(item in a list) i.e. \"Orange\" => 6 characters = '**<Unicode 6**'."
   ]
  },
  {
   "cell_type": "markdown",
   "id": "6fde20bd",
   "metadata": {},
   "source": [
    "### iii. Decimal (float) Array from python list"
   ]
  },
  {
   "cell_type": "code",
   "execution_count": 6,
   "id": "3dbc8607",
   "metadata": {},
   "outputs": [
    {
     "name": "stdout",
     "output_type": "stream",
     "text": [
      "[[10.2  20.3  30.4  40.5 ]\n",
      " [ 5.1  15.34 25.34 35.56]\n",
      " [50.67 60.   70.66 80.9 ]]\n",
      "Array_datatype: float64\n",
      "Array_itemsize: 8\n",
      "Array_size: 12\n",
      "Array_shape: (3, 4)\n"
     ]
    }
   ],
   "source": [
    "row1 = [10.2, 20.3, 30.4, 40.5]\n",
    "row2 = [5.1, 15.34, 25.34, 35.56]\n",
    "row3 = [50.67, 60, 70.66, 80.9]\n",
    "float_array = np.array([row1, row2, row3])\n",
    "print(float_array)\n",
    "print(\"Array_datatype:\",float_array.dtype)\n",
    "print(\"Array_itemsize:\",float_array.dtype.itemsize)\n",
    "print(\"Array_size:\",float_array.size)\n",
    "print(\"Array_shape:\",float_array.shape)"
   ]
  },
  {
   "cell_type": "markdown",
   "id": "15e3cc51",
   "metadata": {},
   "source": [
    "### iv. Date Array from python list"
   ]
  },
  {
   "cell_type": "code",
   "execution_count": 7,
   "id": "cc93e2f4",
   "metadata": {},
   "outputs": [
    {
     "name": "stdout",
     "output_type": "stream",
     "text": [
      "['2022-02-01' '2021-03-04' '1997-06-27']\n",
      "<U10\n",
      "40\n",
      "3\n"
     ]
    }
   ],
   "source": [
    "date_array = np.array(['2022-02-01', '2021-03-04', '1997-06-27'])\n",
    "print(date_array)\n",
    "print(date_array.dtype)\n",
    "print(date_array.dtype.itemsize)    # Here '2021-03-04' = 10 characters => <Unicode 10, Hence size = 4 bytes * 10 = 40 bytes.\n",
    "print(date_array.size)"
   ]
  },
  {
   "cell_type": "markdown",
   "id": "e1580a57",
   "metadata": {},
   "source": [
    "**Note: Here date array is treated as string. Hence 'dtype.itemsize' is 40**"
   ]
  },
  {
   "cell_type": "code",
   "execution_count": 8,
   "id": "78c25bfb",
   "metadata": {},
   "outputs": [
    {
     "name": "stdout",
     "output_type": "stream",
     "text": [
      "['2022-02-01' '2021-03-04' '1997-06-27']\n",
      "datetime64[D]\n",
      "8\n",
      "3\n"
     ]
    }
   ],
   "source": [
    "extracted_month = date_array.astype(\"M\")   # Here astype('M') specifies datetime array\n",
    "print(extracted_month)\n",
    "print(extracted_month.dtype)\n",
    "print(extracted_month.dtype.itemsize)\n",
    "print(extracted_month.size)"
   ]
  },
  {
   "cell_type": "markdown",
   "id": "8b8655e7",
   "metadata": {},
   "source": [
    "**Note: Here we have specified datatype of an array as 'datetime' by 'astype('M')' method**"
   ]
  },
  {
   "cell_type": "code",
   "execution_count": 9,
   "id": "ab932d42",
   "metadata": {},
   "outputs": [
    {
     "name": "stdout",
     "output_type": "stream",
     "text": [
      "['2022-02-01' '2021-03-04' '1997-06-27']\n",
      "datetime64[D]\n",
      "8\n"
     ]
    }
   ],
   "source": [
    "date_array = np.array(['2022-02-01', '2021-03-04', '1997-06-27'], dtype='M')\n",
    "print(date_array)\n",
    "print(date_array.dtype)\n",
    "print(date_array.dtype.itemsize)"
   ]
  },
  {
   "cell_type": "markdown",
   "id": "a2262c5c",
   "metadata": {},
   "source": [
    "### v. NumPy array from python tuple, set and dictionary"
   ]
  },
  {
   "cell_type": "code",
   "execution_count": 21,
   "id": "4e5d64c4",
   "metadata": {},
   "outputs": [
    {
     "name": "stdout",
     "output_type": "stream",
     "text": [
      "tup - <class 'tuple'>\n",
      "tup_array - <class 'numpy.ndarray'>\n",
      "Shape: (2, 5)\n",
      "[[ 1  2  3  4  5]\n",
      " [ 6  7  8  9 10]]\n",
      "Array indexing: tup_array[1][3] = 9\n"
     ]
    }
   ],
   "source": [
    "# Array from tuple()\n",
    "\n",
    "tup = ((1,2,3,4,5), (6,7,8,9,10))\n",
    "tup_array = np.array(tup)\n",
    "print(\"tup -\",type(tup))\n",
    "print(\"tup_array -\",type(tup_array))\n",
    "print(\"Shape:\",tup_array.shape)\n",
    "print(tup_array)\n",
    "\n",
    "print(\"Array indexing: tup_array[1][3] =\",tup_array[1][3])"
   ]
  },
  {
   "cell_type": "code",
   "execution_count": 17,
   "id": "d1240dc9",
   "metadata": {},
   "outputs": [
    {
     "name": "stdout",
     "output_type": "stream",
     "text": [
      "set - <class 'set'>\n",
      "set_array - <class 'numpy.ndarray'>\n",
      "Shape: ()\n",
      "{1, 2, 3, 4, 5, 6, 7, 8}\n"
     ]
    }
   ],
   "source": [
    "# Array from set{}\n",
    "\n",
    "set = {1,2,3,4,5,6,7,8}\n",
    "set_array = np.array(set)\n",
    "print(\"set -\",type(set))\n",
    "print(\"set_array -\",type(set_array))\n",
    "print(\"Shape:\",set_array.shape)\n",
    "print(set_array)"
   ]
  },
  {
   "cell_type": "code",
   "execution_count": 18,
   "id": "6e49ac76",
   "metadata": {},
   "outputs": [
    {
     "name": "stdout",
     "output_type": "stream",
     "text": [
      "dict - <class 'dict'>\n",
      "dict_array - <class 'numpy.ndarray'>\n",
      "Shape: ()\n",
      "{1: 'a', 2: 'b', 3: 'c'}\n"
     ]
    }
   ],
   "source": [
    "# Array from dict{k:v}\n",
    "\n",
    "dict = {1:'a', 2:'b', 3:'c'}\n",
    "dict_array = np.array(dict)\n",
    "print(\"dict -\",type(dict))\n",
    "print(\"dict_array -\",type(dict_array))\n",
    "print(\"Shape:\",dict_array.shape)\n",
    "print(dict_array)"
   ]
  },
  {
   "cell_type": "markdown",
   "id": "75e6740b",
   "metadata": {},
   "source": [
    "**Note: Array indexing is not possible for those arrays which are created from unindexed / unordered python objects like set and dict. Numpy treat set and dict as a single element i.e. 0 dimensional array, hence giving index error.**"
   ]
  },
  {
   "cell_type": "code",
   "execution_count": 13,
   "id": "cce37157",
   "metadata": {},
   "outputs": [
    {
     "ename": "IndexError",
     "evalue": "too many indices for array: array is 0-dimensional, but 1 were indexed",
     "output_type": "error",
     "traceback": [
      "\u001b[1;31m---------------------------------------------------------------------------\u001b[0m",
      "\u001b[1;31mIndexError\u001b[0m                                Traceback (most recent call last)",
      "\u001b[1;32m~\\AppData\\Local\\Temp/ipykernel_1632/3054855337.py\u001b[0m in \u001b[0;36m<module>\u001b[1;34m\u001b[0m\n\u001b[1;32m----> 1\u001b[1;33m \u001b[0mprint\u001b[0m\u001b[1;33m(\u001b[0m\u001b[1;34m\"Array indexing: set_array[1][3] =\"\u001b[0m\u001b[1;33m,\u001b[0m\u001b[0mset_array\u001b[0m\u001b[1;33m[\u001b[0m\u001b[1;36m3\u001b[0m\u001b[1;33m]\u001b[0m\u001b[1;33m)\u001b[0m\u001b[1;33m\u001b[0m\u001b[1;33m\u001b[0m\u001b[0m\n\u001b[0m",
      "\u001b[1;31mIndexError\u001b[0m: too many indices for array: array is 0-dimensional, but 1 were indexed"
     ]
    }
   ],
   "source": [
    "print(\"Array indexing: set_array[1][3] =\",set_array[3])"
   ]
  },
  {
   "cell_type": "code",
   "execution_count": 14,
   "id": "e7cbb86e",
   "metadata": {},
   "outputs": [
    {
     "ename": "IndexError",
     "evalue": "too many indices for array: array is 0-dimensional, but 1 were indexed",
     "output_type": "error",
     "traceback": [
      "\u001b[1;31m---------------------------------------------------------------------------\u001b[0m",
      "\u001b[1;31mIndexError\u001b[0m                                Traceback (most recent call last)",
      "\u001b[1;32m~\\AppData\\Local\\Temp/ipykernel_1632/1844885681.py\u001b[0m in \u001b[0;36m<module>\u001b[1;34m\u001b[0m\n\u001b[1;32m----> 1\u001b[1;33m \u001b[0mprint\u001b[0m\u001b[1;33m(\u001b[0m\u001b[1;34m\"Array indexing: dict_array[1][3] =\"\u001b[0m\u001b[1;33m,\u001b[0m\u001b[0mdict_array\u001b[0m\u001b[1;33m[\u001b[0m\u001b[1;36m3\u001b[0m\u001b[1;33m]\u001b[0m\u001b[1;33m)\u001b[0m\u001b[1;33m\u001b[0m\u001b[1;33m\u001b[0m\u001b[0m\n\u001b[0m",
      "\u001b[1;31mIndexError\u001b[0m: too many indices for array: array is 0-dimensional, but 1 were indexed"
     ]
    }
   ],
   "source": [
    "print(\"Array indexing: dict_array[1][3] =\",dict_array[3])"
   ]
  },
  {
   "cell_type": "code",
   "execution_count": null,
   "id": "7a7f7d79",
   "metadata": {},
   "outputs": [],
   "source": []
  }
 ],
 "metadata": {
  "kernelspec": {
   "display_name": "Python 3 (ipykernel)",
   "language": "python",
   "name": "python3"
  },
  "language_info": {
   "codemirror_mode": {
    "name": "ipython",
    "version": 3
   },
   "file_extension": ".py",
   "mimetype": "text/x-python",
   "name": "python",
   "nbconvert_exporter": "python",
   "pygments_lexer": "ipython3",
   "version": "3.9.7"
  }
 },
 "nbformat": 4,
 "nbformat_minor": 5
}
